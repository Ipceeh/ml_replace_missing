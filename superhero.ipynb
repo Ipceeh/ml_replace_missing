{
 "cells": [
  {
   "cell_type": "code",
   "execution_count": 1,
   "metadata": {},
   "outputs": [
    {
     "name": "stderr",
     "output_type": "stream",
     "text": [
      "/home/abyzs/anaconda3/lib/python3.7/site-packages/sklearn/ensemble/weight_boosting.py:29: DeprecationWarning: numpy.core.umath_tests is an internal NumPy module and should not be imported. It will be removed in a future NumPy release.\n",
      "  from numpy.core.umath_tests import inner1d\n"
     ]
    }
   ],
   "source": [
    "import pandas as pd\n",
    "import numpy as np\n",
    "import re\n",
    "from io import StringIO\n",
    "from sklearn.linear_model import LinearRegression as LinReg\n",
    "from missing_values import *\n",
    "\n",
    "from sklearn.model_selection import KFold\n",
    "from sklearn.metrics import accuracy_score, confusion_matrix\n",
    "from sklearn.ensemble import RandomForestClassifier"
   ]
  },
  {
   "cell_type": "markdown",
   "metadata": {},
   "source": [
    "Let's do some data preparation. Change '-' before ',' to zero-string as provide correct parsing NaN values. \n",
    "Delete index column, as pandas have it's own"
   ]
  },
  {
   "cell_type": "code",
   "execution_count": 2,
   "metadata": {},
   "outputs": [],
   "source": [
    "def read():\n",
    "    with open('heroes_information.csv', 'r') as file:\n",
    "        f = file.read()\n",
    "    f = re.sub(r'\\-\\,', ',', f)\n",
    "    f = f.lower()\n",
    "    heroes = pd.read_csv(StringIO(f))\n",
    "    heroes.drop(columns=['Unnamed: 0'], inplace=True)\n",
    "    return heroes\n",
    "heroes = read()"
   ]
  },
  {
   "cell_type": "code",
   "execution_count": 3,
   "metadata": {},
   "outputs": [
    {
     "data": {
      "text/html": [
       "<div>\n",
       "<style scoped>\n",
       "    .dataframe tbody tr th:only-of-type {\n",
       "        vertical-align: middle;\n",
       "    }\n",
       "\n",
       "    .dataframe tbody tr th {\n",
       "        vertical-align: top;\n",
       "    }\n",
       "\n",
       "    .dataframe thead th {\n",
       "        text-align: right;\n",
       "    }\n",
       "</style>\n",
       "<table border=\"1\" class=\"dataframe\">\n",
       "  <thead>\n",
       "    <tr style=\"text-align: right;\">\n",
       "      <th></th>\n",
       "      <th>name</th>\n",
       "      <th>gender</th>\n",
       "      <th>eye color</th>\n",
       "      <th>race</th>\n",
       "      <th>hair color</th>\n",
       "      <th>height</th>\n",
       "      <th>publisher</th>\n",
       "      <th>skin color</th>\n",
       "      <th>alignment</th>\n",
       "      <th>weight</th>\n",
       "    </tr>\n",
       "  </thead>\n",
       "  <tbody>\n",
       "    <tr>\n",
       "      <th>0</th>\n",
       "      <td>a-bomb</td>\n",
       "      <td>male</td>\n",
       "      <td>yellow</td>\n",
       "      <td>human</td>\n",
       "      <td>no hair</td>\n",
       "      <td>203.0</td>\n",
       "      <td>marvel comics</td>\n",
       "      <td>NaN</td>\n",
       "      <td>good</td>\n",
       "      <td>441.0</td>\n",
       "    </tr>\n",
       "    <tr>\n",
       "      <th>1</th>\n",
       "      <td>abe sapien</td>\n",
       "      <td>male</td>\n",
       "      <td>blue</td>\n",
       "      <td>icthyo sapien</td>\n",
       "      <td>no hair</td>\n",
       "      <td>191.0</td>\n",
       "      <td>dark horse comics</td>\n",
       "      <td>blue</td>\n",
       "      <td>good</td>\n",
       "      <td>65.0</td>\n",
       "    </tr>\n",
       "    <tr>\n",
       "      <th>2</th>\n",
       "      <td>abin sur</td>\n",
       "      <td>male</td>\n",
       "      <td>blue</td>\n",
       "      <td>ungaran</td>\n",
       "      <td>no hair</td>\n",
       "      <td>185.0</td>\n",
       "      <td>dc comics</td>\n",
       "      <td>red</td>\n",
       "      <td>good</td>\n",
       "      <td>90.0</td>\n",
       "    </tr>\n",
       "    <tr>\n",
       "      <th>3</th>\n",
       "      <td>abomination</td>\n",
       "      <td>male</td>\n",
       "      <td>green</td>\n",
       "      <td>human / radiation</td>\n",
       "      <td>no hair</td>\n",
       "      <td>203.0</td>\n",
       "      <td>marvel comics</td>\n",
       "      <td>NaN</td>\n",
       "      <td>bad</td>\n",
       "      <td>441.0</td>\n",
       "    </tr>\n",
       "    <tr>\n",
       "      <th>4</th>\n",
       "      <td>abraxas</td>\n",
       "      <td>male</td>\n",
       "      <td>blue</td>\n",
       "      <td>cosmic entity</td>\n",
       "      <td>black</td>\n",
       "      <td>-99.0</td>\n",
       "      <td>marvel comics</td>\n",
       "      <td>NaN</td>\n",
       "      <td>bad</td>\n",
       "      <td>-99.0</td>\n",
       "    </tr>\n",
       "  </tbody>\n",
       "</table>\n",
       "</div>"
      ],
      "text/plain": [
       "          name gender eye color               race hair color  height  \\\n",
       "0       a-bomb   male    yellow              human    no hair   203.0   \n",
       "1   abe sapien   male      blue      icthyo sapien    no hair   191.0   \n",
       "2     abin sur   male      blue            ungaran    no hair   185.0   \n",
       "3  abomination   male     green  human / radiation    no hair   203.0   \n",
       "4      abraxas   male      blue      cosmic entity      black   -99.0   \n",
       "\n",
       "           publisher skin color alignment  weight  \n",
       "0      marvel comics        NaN      good   441.0  \n",
       "1  dark horse comics       blue      good    65.0  \n",
       "2          dc comics        red      good    90.0  \n",
       "3      marvel comics        NaN       bad   441.0  \n",
       "4      marvel comics        NaN       bad   -99.0  "
      ]
     },
     "execution_count": 3,
     "metadata": {},
     "output_type": "execute_result"
    }
   ],
   "source": [
    "heroes.head()"
   ]
  },
  {
   "cell_type": "code",
   "execution_count": 4,
   "metadata": {},
   "outputs": [
    {
     "data": {
      "text/plain": [
       "name           object\n",
       "gender         object\n",
       "eye color      object\n",
       "race           object\n",
       "hair color     object\n",
       "height        float64\n",
       "publisher      object\n",
       "skin color     object\n",
       "alignment      object\n",
       "weight        float64\n",
       "dtype: object"
      ]
     },
     "execution_count": 4,
     "metadata": {},
     "output_type": "execute_result"
    }
   ],
   "source": [
    "heroes.dtypes"
   ]
  },
  {
   "cell_type": "code",
   "execution_count": 5,
   "metadata": {},
   "outputs": [
    {
     "name": "stdout",
     "output_type": "stream",
     "text": [
      "<class 'pandas.core.frame.DataFrame'>\n",
      "RangeIndex: 734 entries, 0 to 733\n",
      "Data columns (total 10 columns):\n",
      "name          734 non-null object\n",
      "gender        705 non-null object\n",
      "eye color     562 non-null object\n",
      "race          430 non-null object\n",
      "hair color    562 non-null object\n",
      "height        734 non-null float64\n",
      "publisher     719 non-null object\n",
      "skin color    72 non-null object\n",
      "alignment     727 non-null object\n",
      "weight        732 non-null float64\n",
      "dtypes: float64(2), object(8)\n",
      "memory usage: 57.4+ KB\n"
     ]
    }
   ],
   "source": [
    "heroes.info()"
   ]
  },
  {
   "cell_type": "markdown",
   "metadata": {},
   "source": [
    "Persentage of missing values per column"
   ]
  },
  {
   "cell_type": "code",
   "execution_count": 6,
   "metadata": {
    "scrolled": true
   },
   "outputs": [
    {
     "name": "stdout",
     "output_type": "stream",
     "text": [
      "0.00%\tname\n",
      "3.95%\tgender\n",
      "23.43%\teye color\n",
      "41.42%\trace\n",
      "23.43%\thair color\n",
      "0.00%\theight\n",
      "2.04%\tpublisher\n",
      "90.19%\tskin color\n",
      "0.95%\talignment\n",
      "0.27%\tweight\n"
     ]
    }
   ],
   "source": [
    "for col in heroes.columns:\n",
    "    print(f'{pd.isna(heroes[col]).sum()/len(heroes) * 100:.2f}%\\t{col}')"
   ]
  },
  {
   "cell_type": "markdown",
   "metadata": {},
   "source": [
    "NaN values visualizing. Yellow - NaN. Vertical axis - columns, gorizontal - samples. Divided to 4 plots just to let see in one screen"
   ]
  },
  {
   "cell_type": "code",
   "execution_count": 7,
   "metadata": {},
   "outputs": [
    {
     "data": {
      "image/png": "[encoded data removed]",
      "text/plain": [
       "<Figure size 1440x576 with 4 Axes>"
      ]
     },
     "metadata": {
      "needs_background": "light"
     },
     "output_type": "display_data"
    }
   ],
   "source": [
    "plot_nan(heroes)"
   ]
  },
  {
   "cell_type": "markdown",
   "metadata": {},
   "source": [
    "Unique amount in each column"
   ]
  },
  {
   "cell_type": "code",
   "execution_count": 8,
   "metadata": {},
   "outputs": [
    {
     "name": "stdout",
     "output_type": "stream",
     "text": [
      "name 715\n",
      "gender 3\n",
      "eye color 23\n",
      "race 62\n",
      "hair color 28\n",
      "height 54\n",
      "publisher 25\n",
      "skin color 17\n",
      "alignment 4\n",
      "weight 136\n"
     ]
    }
   ],
   "source": [
    "for col in heroes.columns:\n",
    "    print(col, len(heroes[col].unique()))"
   ]
  },
  {
   "cell_type": "markdown",
   "metadata": {},
   "source": [
    "research of weights in each feature"
   ]
  },
  {
   "cell_type": "code",
   "execution_count": 9,
   "metadata": {
    "scrolled": true
   },
   "outputs": [
    {
     "name": "stdout",
     "output_type": "stream",
     "text": [
      "gender\n",
      "\t68.80%\tmale\n",
      "\t27.25%\tfemale\n",
      "\t3.95%\tNaN\n",
      "eye color\n",
      "\t30.65%\tblue\n",
      "\t23.43%\tNaN\n",
      "\t17.17%\tbrown\n",
      "\t9.95%\tgreen\n",
      "\t6.27%\tred\n",
      "\t3.13%\tblack\n",
      "\t2.59%\tyellow\n",
      "\t2.32%\twhite\n",
      "\t0.82%\tgrey\n",
      "\t0.82%\thazel\n",
      "\t0.54%\tpurple\n",
      "\t0.41%\tgold\n",
      "\t0.27%\tviolet\n",
      "\t0.27%\tyellow (without irises)\n",
      "\t0.27%\tamber\n",
      "\t0.14%\tsilver\n",
      "\t0.14%\tyellow / red\n",
      "\t0.14%\tblue / white\n",
      "\t0.14%\tgreen / blue\n",
      "\t0.14%\twhite / red\n",
      "\t0.14%\tindigo\n",
      "\t0.14%\tyellow / blue\n",
      "\t0.14%\tbown\n",
      "hair color\n",
      "\t23.43%\tNaN\n",
      "\t21.93%\tblack\n",
      "\t13.90%\tblond\n",
      "\t11.72%\tbrown\n",
      "\t10.22%\tno hair\n",
      "\t6.95%\tred\n",
      "\t3.13%\twhite\n",
      "\t1.77%\tauburn\n",
      "\t1.09%\tgreen\n",
      "\t0.95%\tstrawberry blond\n",
      "\t0.68%\tpurple\n",
      "\t0.68%\tgrey\n",
      "\t0.54%\tbrown / white\n",
      "\t0.54%\tsilver\n",
      "\t0.41%\tblue\n",
      "\t0.27%\torange\n",
      "\t0.27%\tyellow\n",
      "\t0.14%\tpink\n",
      "\t0.14%\tmagenta\n",
      "\t0.14%\tbrown / black\n",
      "\t0.14%\tred / grey\n",
      "\t0.14%\torange / white\n",
      "\t0.14%\tbrownn\n",
      "\t0.14%\tgold\n",
      "\t0.14%\tred / orange\n",
      "\t0.14%\tindigo\n",
      "\t0.14%\tred / white\n",
      "\t0.14%\tblack / blue\n",
      "publisher\n",
      "\t52.86%\tmarvel comics\n",
      "\t29.29%\tdc comics\n",
      "\t2.59%\tnbc - heroes\n",
      "\t2.45%\tdark horse comics\n",
      "\t2.04%\tNaN\n",
      "\t1.91%\timage comics\n",
      "\t1.91%\tgeorge lucas\n",
      "\t0.82%\tharpercollins\n",
      "\t0.82%\tstar trek\n",
      "\t0.68%\tsyfy\n",
      "\t0.68%\tteam epic tv\n",
      "\t0.54%\ticon comics\n",
      "\t0.54%\tabc studios\n",
      "\t0.54%\tidw publishing\n",
      "\t0.54%\tshueisha\n",
      "\t0.41%\twildstorm\n",
      "\t0.27%\tsony pictures\n",
      "\t0.14%\thanna-barbera\n",
      "\t0.14%\tsouth park\n",
      "\t0.14%\tuniversal studios\n",
      "\t0.14%\tj. k. rowling\n",
      "\t0.14%\ttitan books\n",
      "\t0.14%\trebellion\n",
      "\t0.14%\tmicrosoft\n",
      "\t0.14%\tj. r. r. tolkien\n",
      "skin color\n",
      "\t90.19%\tNaN\n",
      "\t2.86%\tgreen\n",
      "\t1.23%\tblue\n",
      "\t1.23%\tred\n",
      "\t0.95%\twhite\n",
      "\t0.68%\tgrey\n",
      "\t0.68%\tsilver\n",
      "\t0.41%\tgold\n",
      "\t0.41%\tpurple\n",
      "\t0.27%\tpink\n",
      "\t0.27%\tyellow\n",
      "\t0.14%\tblack\n",
      "\t0.14%\tred / black\n",
      "\t0.14%\torange / white\n",
      "\t0.14%\tgray\n",
      "\t0.14%\tblue-white\n",
      "\t0.14%\torange\n",
      "alignment\n",
      "\t67.57%\tgood\n",
      "\t28.20%\tbad\n",
      "\t3.27%\tneutral\n",
      "\t0.95%\tNaN\n"
     ]
    }
   ],
   "source": [
    "n = len(heroes)\n",
    "for col in heroes.columns:\n",
    "    if len(heroes[col].unique()) > 30:\n",
    "        continue\n",
    "    print(col)\n",
    "    l = []\n",
    "    for name in heroes[col].unique():\n",
    "        if str(name) == 'nan':\n",
    "            l.append((sum(pd.isna(heroes[col])) / n * 100, 'NaN'))\n",
    "#             print(f'\\t{sum(pd.isna(heroes[col])) / n * 100:.2f}%\\t{name}')\n",
    "        else:\n",
    "            l.append((len(heroes[(heroes[col] == name)]) / n * 100, str(name)))\n",
    "#             print(f'\\t{len(heroes[(heroes[col] == name)]) / n * 100:.2f}%\\t{name}')\n",
    "    else:\n",
    "        l.sort(key=lambda x: x[0], reverse=True)\n",
    "        for i in l:\n",
    "            print(f'\\t{i[0]:.2f}%\\t{i[1]}')"
   ]
  },
  {
   "cell_type": "markdown",
   "metadata": {},
   "source": [
    "Change NaN values. As most of columns are text-like, use 'most common' as knn mode."
   ]
  },
  {
   "cell_type": "code",
   "execution_count": 10,
   "metadata": {
    "scrolled": true
   },
   "outputs": [],
   "source": [
    "knn(heroes, 'weight', v_columns=['gender', 'eye color', 'race', 'hair color', 'height',\n",
    "       'publisher', 'skin color'], mode='mean')\n",
    "\n",
    "knn(heroes, 'publisher', v_columns=['gender', 'race', 'eye color', 'height',\n",
    "       'hair color', 'skin color', 'weight'], mode='mod')\n",
    "\n",
    "knn(heroes, 'gender', v_columns=['race', 'hair color', 'height',\n",
    "       'publisher', 'eye color', 'skin color', 'weight'], mode='mod')\n",
    "\n",
    "\n",
    "knn(heroes, 'eye color', v_columns=['gender', 'race', 'hair color', 'height',\n",
    "       'publisher', 'skin color', 'weight'], mode='mod')\n",
    "\n",
    "knn(heroes, 'hair color', v_columns=['gender', 'race', 'eye color', 'height',\n",
    "       'publisher', 'skin color', 'weight'], mode='mod')\n",
    "\n",
    "heroes = drop(heroes, ['race', 'skin color'], axis=1)\n",
    "heroes = replace(heroes, ['alignment'], mode='unknown')\n",
    "\n"
   ]
  },
  {
   "cell_type": "markdown",
   "metadata": {},
   "source": [
    "Look if there are any NaN values?"
   ]
  },
  {
   "cell_type": "code",
   "execution_count": 11,
   "metadata": {},
   "outputs": [
    {
     "data": {
      "image/png": "[encoded data removed]",
      "text/plain": [
       "<Figure size 1440x576 with 4 Axes>"
      ]
     },
     "metadata": {
      "needs_background": "light"
     },
     "output_type": "display_data"
    }
   ],
   "source": [
    "plot_nan(heroes)"
   ]
  },
  {
   "cell_type": "code",
   "execution_count": 12,
   "metadata": {},
   "outputs": [
    {
     "name": "stdout",
     "output_type": "stream",
     "text": [
      "0.00%\tname\n",
      "0.00%\tgender\n",
      "0.00%\teye color\n",
      "0.00%\thair color\n",
      "0.00%\theight\n",
      "0.00%\tpublisher\n",
      "0.00%\talignment\n",
      "0.00%\tweight\n"
     ]
    }
   ],
   "source": [
    "for col in heroes.columns:\n",
    "    print(f'{pd.isna(heroes[col]).sum()/len(heroes) * 100:.2f}%\\t{col}')"
   ]
  },
  {
   "cell_type": "markdown",
   "metadata": {},
   "source": [
    "Creating 2 models one with class_weight, second - without it"
   ]
  },
  {
   "cell_type": "code",
   "execution_count": 13,
   "metadata": {},
   "outputs": [],
   "source": [
    "def ml(heroes):\n",
    "    models = [\n",
    "        RandomForestClassifier(n_estimators=100, random_state=42, n_jobs=-1, class_weight = {\n",
    "            'good' : 0.67,\n",
    "            'bad' : 0.28,\n",
    "            'neutral' : 0.3,\n",
    "            'unknown' : 0.1\n",
    "        }),\n",
    "        RandomForestClassifier(n_estimators=100, random_state=42, n_jobs=-1)\n",
    "    ]\n",
    "\n",
    "    columns = list(heroes.columns)\n",
    "    columns.remove('alignment')\n",
    "    columns.remove('name')\n",
    "    print(columns)\n",
    "    dtr = heroes.loc[ : , columns]\n",
    "    dtr = np.array(pd.get_dummies(dtr, columns=['gender', 'eye color', 'hair color', 'publisher']))\n",
    "    dte = np.array(heroes.loc[ : , 'alignment'])\n",
    "\n",
    "    folds = KFold(n_splits=5, shuffle=True, random_state=1)\n",
    "    for m in models:\n",
    "        acc = []\n",
    "        conf = []\n",
    "        for trn_idx, val_idx in folds.split(heroes):\n",
    "            reg = m\n",
    "            reg.fit(dtr[trn_idx, :], dte[trn_idx])\n",
    "            q = reg.predict(dtr[val_idx, :])\n",
    "    #         print(q)\n",
    "    #         for i in range(len(q)):\n",
    "    #             print(q[i], heroes.iloc[val_idx,0].iloc[i])\n",
    "            acc.append(accuracy_score(dte[val_idx], q) ** 0.5)\n",
    "            conf.append(confusion_matrix(dte[val_idx], q))\n",
    "        print(f'accuracy : {sum(acc)/len(acc) * 100:.1f}%')\n",
    "        print(f'mean confusing matrix :\\n{sum(conf) / 5}')"
   ]
  },
  {
   "cell_type": "code",
   "execution_count": 14,
   "metadata": {},
   "outputs": [
    {
     "name": "stdout",
     "output_type": "stream",
     "text": [
      "['gender', 'eye color', 'hair color', 'height', 'publisher', 'weight']\n",
      "accuracy : 81.8%\n",
      "mean confusing matrix :\n",
      "[[13.8 27.2  0.4  0. ]\n",
      " [14.4 84.4  0.2  0.2]\n",
      " [ 1.4  3.4  0.   0. ]\n",
      " [ 0.6  0.8  0.   0. ]]\n",
      "accuracy : 81.5%\n",
      "mean confusing matrix :\n",
      "[[13.2 27.6  0.6  0. ]\n",
      " [14.4 84.2  0.4  0.2]\n",
      " [ 1.4  3.2  0.2  0. ]\n",
      " [ 0.6  0.8  0.   0. ]]\n"
     ]
    }
   ],
   "source": [
    "ml(heroes)"
   ]
  },
  {
   "cell_type": "markdown",
   "metadata": {},
   "source": [
    "Ouch, looks like we have no tolerance. Thats why we replace missing data, according to 'race' and 'skin color'.\n",
    "But as we are European we need to be more tolerant! So, let's remove 'race' and 'skin color' before replacing missing data."
   ]
  },
  {
   "cell_type": "code",
   "execution_count": 15,
   "metadata": {},
   "outputs": [
    {
     "name": "stdout",
     "output_type": "stream",
     "text": [
      "['gender', 'eye color', 'hair color', 'height', 'publisher', 'weight']\n",
      "accuracy : 82.2%\n",
      "mean confusing matrix :\n",
      "[[13.  28.   0.4  0. ]\n",
      " [12.8 85.8  0.4  0.2]\n",
      " [ 1.8  2.6  0.4  0. ]\n",
      " [ 0.6  0.8  0.   0. ]]\n",
      "accuracy : 81.2%\n",
      "mean confusing matrix :\n",
      "[[12.4 28.6  0.4  0. ]\n",
      " [14.4 84.2  0.4  0.2]\n",
      " [ 1.8  2.8  0.2  0. ]\n",
      " [ 0.6  0.8  0.   0. ]]\n"
     ]
    }
   ],
   "source": [
    "heroes = read()\n",
    "heroes = drop(heroes, ['race', 'skin color'], axis=1)\n",
    "heroes = replace(heroes, ['alignment'], mode='unknown')\n",
    "\n",
    "knn(heroes, 'weight', v_columns=['gender', 'eye color', 'hair color', 'height',\n",
    "       'publisher'], mode='mean')\n",
    "\n",
    "knn(heroes, 'publisher', v_columns=['gender', 'eye color', 'height',\n",
    "       'hair color', 'weight'], mode='mod')\n",
    "\n",
    "knn(heroes, 'gender', v_columns=['hair color', 'height',\n",
    "       'publisher', 'eye color', 'weight'], mode='mod')\n",
    "\n",
    "\n",
    "knn(heroes, 'eye color', v_columns=['gender', 'hair color', 'height',\n",
    "       'publisher',  'weight'], mode='mod')\n",
    "\n",
    "knn(heroes, 'hair color', v_columns=['gender', 'eye color', 'height',\n",
    "       'publisher', 'weight'], mode='mod')\n",
    "\n",
    "\n",
    "ml(heroes)"
   ]
  },
  {
   "cell_type": "markdown",
   "metadata": {},
   "source": [
    "And what can we see? The accuracy score is growing up. Isn't that a miracle? Just a bit of tolerance give us 0.4% of score. Don't forget, it can be the decisive factor in your future projects!"
   ]
  },
  {
   "cell_type": "code",
   "execution_count": null,
   "metadata": {},
   "outputs": [],
   "source": []
  }
 ],
 "metadata": {
  "kernelspec": {
   "display_name": "Python 3",
   "language": "python",
   "name": "python3"
  },
  "language_info": {
   "codemirror_mode": {
    "name": "ipython",
    "version": 3
   },
   "file_extension": ".py",
   "mimetype": "text/x-python",
   "name": "python",
   "nbconvert_exporter": "python",
   "pygments_lexer": "ipython3",
   "version": "3.7.0"
  }
 },
 "nbformat": 4,
 "nbformat_minor": 2
}
